{
 "cells": [
  {
   "cell_type": "code",
   "execution_count": 7,
   "metadata": {
    "scrolled": false
   },
   "outputs": [
    {
     "name": "stdout",
     "output_type": "stream",
     "text": [
      "18:30 한화 vs SK\n",
      "https://sports.news.naver.com//gameCenter/textRelay.nhn?category=kbo&gameId=20200819HHSK02020\n",
      "해당 경기는 현지 사정으로 취소되었습니다.\n",
      "아직 경기 영상이 올라오지 않았습니다.\n",
      "18:30 KIA vs LG\n",
      "https://sports.news.naver.com//gameCenter/textRelay.nhn?category=kbo&gameId=20200819HTLG02020\n",
      "아직 경기 영상이 올라오지 않았습니다.\n",
      "18:30 KT vs 삼성\n",
      "https://sports.news.naver.com//gameCenter/textRelay.nhn?category=kbo&gameId=20200819KTSS02020\n",
      "아직 경기 영상이 올라오지 않았습니다.\n",
      "18:30 두산 vs 롯데\n",
      "https://sports.news.naver.com//gameCenter/textRelay.nhn?category=kbo&gameId=20200819OBLT02020\n",
      "아직 경기 영상이 올라오지 않았습니다.\n",
      "18:30 키움 vs NC\n",
      "https://sports.news.naver.com//gameCenter/textRelay.nhn?category=kbo&gameId=20200819WONC02020\n",
      "아직 경기 영상이 올라오지 않았습니다.\n"
     ]
    }
   ],
   "source": [
    "from urllib import request\n",
    "from bs4 import BeautifulSoup\n",
    "import datetime\n",
    "today = datetime.datetime.today()\n",
    "if today.day < 10 : #일\n",
    "    day = \"0%d\" % (today.day)\n",
    "else :\n",
    "    day = \"%d\" % (today.day)\n",
    "if today.month < 10:#월\n",
    "    month = \"0%d\" %(today.month)\n",
    "else:\n",
    "    month = \"%d\" %(today.month)\n",
    "year = str(today.year)#년\n",
    "url = \"https://sports.news.naver.com/kbaseball/schedule/index.nhn?date=\"+ year+month+day +\"&month=\"+ month + \"&year=\" + year+\"&teamCode=\"\n",
    "#print(url)\n",
    "#print(\"https://sports.news.naver.com/kbaseball/schedule/index.nhn?date=20200801&month=08&year=2020&teamCode=\")\n",
    "html = request.urlopen(url).read()\n",
    "soup = BeautifulSoup(html, 'html.parser')\n",
    "sch = soup.select(\"div.sch_tb.selected\")\n",
    "#print(soup)\n",
    "sch2 = soup.select(\"div.sch_tb2.selected\")\n",
    "if sch : \n",
    "    b_link = sch[0].select('table > tbody > tr > td > span > a')   \n",
    "    #a_link = sch[0].select('table > tbody > tr:nth-child(2) > td:nth-child(3) > span > a:nth-child(2)')\n",
    "    lft = sch[0].select('div.sch_tb.selected span.team_lft')#왼쪽 팀\n",
    "    #print(c)\n",
    "    rgt = sch[0].select('div.sch_tb.selected span.team_rgt')#오른쪽 팀\n",
    "    #print(d)\n",
    "    hour = sch[0].select('div.sch_tb.selected span.td_hour')#경기 시간\n",
    "    #print(e)\n",
    "    for i in range(5):\n",
    "        print(hour[i].string,lft[i].string,\"vs\",rgt[i].string)#왼쪽 팀 vs 오른쪽 팀(5경기)\n",
    "        link = b_link[i]['href']\n",
    "        link_url = \"https://sports.news.naver.com/\" + link\n",
    "        print(link_url)#경기 일정 링크\n",
    "        if soup.select('.suspended'):#경기 취소\n",
    "            q = soup.select('#calendarWrap > div:nth-child(2) > table > tbody > tr:nth-child(1) > td:nth-child(4) > span')\n",
    "            print(q[0].string)\n",
    "        gv = \"https://sports.news.naver.com\" + b_link[i]['href']\n",
    "        link = gv.replace('textRelay', 'gameVideo')#경기 영상 링크\n",
    "        html = request.urlopen(link).read()\n",
    "        soup = BeautifulSoup(html, 'html.parser')\n",
    "        x = soup.find_all(\"script\")\n",
    "        check=True\n",
    "        for j in x:\n",
    "            if \"잘못된 접근 경로 입니다.\" in j.text: #str(j)\n",
    "                print(\"아직 경기 영상이 올라오지 않았습니다.\")\n",
    "                check = False\n",
    "                break\n",
    "        if check:\n",
    "            print(link)\n",
    "elif sch2:\n",
    "    #경기 시간, 경기 팀, 경기 결과(문자 중계), 경기 영상(TV 중계)\n",
    "    b_link = sch2[0].select('table > tbody > tr > td > span > a')\n",
    "    #a_link = sch2[0].select('table > tbody > tr:nth-child(2) > td:nth-child(3) > span > a:nth-child(2)')\n",
    "    lft = sch2[0].select('div.sch_tb2.selected span.team_lft')#왼쪽 팀\n",
    "    rgt = sch2[0].select('div.sch_tb2.selected span.team_rgt')#오른쪽 팀\n",
    "    hour = sch2[0].select('div.sch_tb2.selected span.td_hour')#경기 시간\n",
    "    for i in range(5):\n",
    "        print(hour[i].string,lft[i].string,\"vs\",rgt[i].string)\n",
    "        if soup.select('.suspended'):#경기 취소\n",
    "            q = soup.select('#calendarWrap > div:nth-child(2) > table > tbody > tr:nth-child(1) > td:nth-child(4) > span')\n",
    "            print(q[0].string)\n",
    "        link = b_link[i]['href']\n",
    "        link_url = \"https://sports.news.naver.com/\" + link\n",
    "        print(link_url)\n",
    "        gv2 = \"https://sports.news.naver.com\" + b_link[i]['href']\n",
    "        #print(gv2)\n",
    "        #link = \"https://sports.news.naver.com\" + sch2[0].select('table > tbody > tr:nth-child(3) > td:nth-child(3) > span > a')[0]['href']\n",
    "        link = gv2.replace('textRelay', 'gameVideo')\n",
    "        html = request.urlopen(link).read()\n",
    "        soup = BeautifulSoup(html, 'html.parser')\n",
    "        x = soup.find_all(\"script\")\n",
    "        check=True\n",
    "        #경기 영상이 없으면 \"아직 경기 영상이 올라오지 않았습니다.\",있으면 출력.\n",
    "        for j in x:\n",
    "            if \"잘못된 접근 경로 입니다.\" in j.text: #str(j)\n",
    "                print(\"아직 경기 영상이 올라오지 않았습니다.\")\n",
    "                check = False\n",
    "                break\n",
    "        if check:\n",
    "            print(link)"
   ]
  },
  {
   "cell_type": "code",
   "execution_count": 37,
   "metadata": {},
   "outputs": [
    {
     "name": "stdout",
     "output_type": "stream",
     "text": [
      "해당 경기는 현지 사정으로 취소되었습니다.\n"
     ]
    }
   ],
   "source": [
    "from urllib import request\n",
    "from bs4 import BeautifulSoup\n",
    "import datetime\n",
    "today = datetime.datetime.today()\n",
    "if today.day < 10 : \n",
    "    day = \"0%d\" % (today.day)\n",
    "else :\n",
    "    day = \"%d\" % (today.day)\n",
    "if today.month < 10:\n",
    "    month = \"0%d\" %(today.month)\n",
    "else:\n",
    "    month = \"%d\" %(today.month)\n",
    "year = str(today.year)\n",
    "url = \"https://sports.news.naver.com/kbaseball/schedule/index.nhn?date=\"+ year+month+day +\"&month=\"+ month + \"&year=\" + year+\"&teamCode=\"\n",
    "#print(url)\n",
    "#print(\"https://sports.news.naver.com/kbaseball/schedule/index.nhn?date=20200801&month=08&year=2020&teamCode=\")\n",
    "html = request.urlopen(url).read()\n",
    "soup = BeautifulSoup(html, 'html.parser')\n",
    "t = soup.select(\"#calendarWrap > div:nth-child(7) > table > tbody > tr:nth-child(4) > td:nth-child(3) > span\")\n",
    "print(t[0].string)"
   ]
  },
  {
   "cell_type": "code",
   "execution_count": 9,
   "metadata": {},
   "outputs": [],
   "source": [
    "#calendarWrap > div.sch_tb2.selected > table > tbody > tr:nth-child(1) > td:nth-child(4) > span > img\n",
    "#calendarWrap > div.sch_tb2.selected > table > tbody > tr:nth-child(2) > td:nth-child(3) > span > img\n",
    "#calendarWrap > div.sch_tb2.selected > table > tbody > tr:nth-child(3) > td:nth-child(3) > span > img\n",
    "#calendarWrap > div.sch_tb2.selected > table > tbody > tr:nth-child(4) > td:nth-child(3) > span > img\n",
    "#calendarWrap > div.sch_tb2.selected > table > tbody > tr:nth-child(5) > td:nth-child(3) > span > img"
   ]
  },
  {
   "cell_type": "code",
   "execution_count": 15,
   "metadata": {},
   "outputs": [
    {
     "name": "stdout",
     "output_type": "stream",
     "text": [
      "[]\n"
     ]
    }
   ],
   "source": [
    "a = soup.select('.suspended')\n",
    "print(a)"
   ]
  },
  {
   "cell_type": "code",
   "execution_count": 2,
   "metadata": {
    "scrolled": true
   },
   "outputs": [
    {
     "name": "stdout",
     "output_type": "stream",
     "text": [
      "해당 경기는 현지 사정으로 취소되었습니다.\n"
     ]
    },
    {
     "data": {
      "text/plain": [
       "[<span class=\"td_stadium cancel\">해당 경기는 현지 사정으로 취소되었습니다.</span>]"
      ]
     },
     "execution_count": 2,
     "metadata": {},
     "output_type": "execute_result"
    }
   ],
   "source": [
    "from urllib import request\n",
    "from bs4 import BeautifulSoup\n",
    "import datetime\n",
    "today = datetime.datetime.today()\n",
    "if today.day < 10 : #일\n",
    "    day = \"0%d\" % (today.day)\n",
    "else :\n",
    "    day = \"%d\" % (today.day)\n",
    "if today.month < 10:#월\n",
    "    month = \"0%d\" %(today.month)\n",
    "else:\n",
    "    month = \"%d\" %(today.month)\n",
    "year = str(today.year)#년\n",
    "url = \"https://sports.news.naver.com/kbaseball/schedule/index.nhn?date=\"+ year+month+day +\"&month=\"+ month + \"&year=\" + year+\"&teamCode=\"\n",
    "#print(url)\n",
    "#print(\"https://sports.news.naver.com/kbaseball/schedule/index.nhn?date=20200801&month=08&year=2020&teamCode=\")\n",
    "html = request.urlopen(url).read()\n",
    "soup = BeautifulSoup(html, 'html.parser')\n",
    "sch = soup.select(\"div.sch_tb.selected\")\n",
    "#print(soup)\n",
    "sch2 = soup.select(\"div.sch_tb2.selected\")\n",
    "b = soup.select('#calendarWrap > div:nth-child(2) > table > tbody > tr:nth-child(1) > td:nth-child(4) > span')\n",
    "print(b[0].string)\n",
    "b"
   ]
  },
  {
   "cell_type": "code",
   "execution_count": 19,
   "metadata": {},
   "outputs": [
    {
     "data": {
      "text/plain": [
       "[]"
      ]
     },
     "execution_count": 19,
     "metadata": {},
     "output_type": "execute_result"
    }
   ],
   "source": []
  },
  {
   "cell_type": "code",
   "execution_count": null,
   "metadata": {},
   "outputs": [],
   "source": []
  },
  {
   "cell_type": "code",
   "execution_count": null,
   "metadata": {},
   "outputs": [],
   "source": []
  }
 ],
 "metadata": {
  "kernelspec": {
   "display_name": "Python 3",
   "language": "python",
   "name": "python3"
  },
  "language_info": {
   "codemirror_mode": {
    "name": "ipython",
    "version": 3
   },
   "file_extension": ".py",
   "mimetype": "text/x-python",
   "name": "python",
   "nbconvert_exporter": "python",
   "pygments_lexer": "ipython3",
   "version": "3.7.6"
  }
 },
 "nbformat": 4,
 "nbformat_minor": 4
}
